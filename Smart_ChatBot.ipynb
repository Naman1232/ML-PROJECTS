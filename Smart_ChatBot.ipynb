{
  "nbformat": 4,
  "nbformat_minor": 0,
  "metadata": {
    "colab": {
      "provenance": [],
      "authorship_tag": "ABX9TyMc74zUf3QmW87aTajYuaVP",
      "include_colab_link": true
    },
    "kernelspec": {
      "name": "python3",
      "display_name": "Python 3"
    },
    "language_info": {
      "name": "python"
    }
  },
  "cells": [
    {
      "cell_type": "markdown",
      "metadata": {
        "id": "view-in-github",
        "colab_type": "text"
      },
      "source": [
        "<a href=\"https://colab.research.google.com/github/Naman1232/ML-PROJECTS/blob/main/Smart_ChatBot.ipynb\" target=\"_parent\"><img src=\"https://colab.research.google.com/assets/colab-badge.svg\" alt=\"Open In Colab\"/></a>"
      ]
    },
    {
      "cell_type": "code",
      "source": [
        "!pip install nltk\n",
        "!pip install newspaper3k\n",
        "!pip install textblob\n",
        "!pip install googletrans==4.0.0-rc1"
      ],
      "metadata": {
        "colab": {
          "base_uri": "https://localhost:8080/"
        },
        "id": "xgn_aKWfFFxQ",
        "outputId": "ddcdfffe-bfb8-49d2-b5b7-6ef7050282bf"
      },
      "execution_count": 17,
      "outputs": [
        {
          "output_type": "stream",
          "name": "stdout",
          "text": [
            "Requirement already satisfied: nltk in /usr/local/lib/python3.10/dist-packages (3.8.1)\n",
            "Requirement already satisfied: click in /usr/local/lib/python3.10/dist-packages (from nltk) (8.1.7)\n",
            "Requirement already satisfied: joblib in /usr/local/lib/python3.10/dist-packages (from nltk) (1.4.2)\n",
            "Requirement already satisfied: regex>=2021.8.3 in /usr/local/lib/python3.10/dist-packages (from nltk) (2024.5.15)\n",
            "Requirement already satisfied: tqdm in /usr/local/lib/python3.10/dist-packages (from nltk) (4.66.5)\n",
            "Requirement already satisfied: newspaper3k in /usr/local/lib/python3.10/dist-packages (0.2.8)\n",
            "Requirement already satisfied: beautifulsoup4>=4.4.1 in /usr/local/lib/python3.10/dist-packages (from newspaper3k) (4.12.3)\n",
            "Requirement already satisfied: Pillow>=3.3.0 in /usr/local/lib/python3.10/dist-packages (from newspaper3k) (9.4.0)\n",
            "Requirement already satisfied: PyYAML>=3.11 in /usr/local/lib/python3.10/dist-packages (from newspaper3k) (6.0.2)\n",
            "Requirement already satisfied: cssselect>=0.9.2 in /usr/local/lib/python3.10/dist-packages (from newspaper3k) (1.2.0)\n",
            "Requirement already satisfied: lxml>=3.6.0 in /usr/local/lib/python3.10/dist-packages (from newspaper3k) (4.9.4)\n",
            "Requirement already satisfied: nltk>=3.2.1 in /usr/local/lib/python3.10/dist-packages (from newspaper3k) (3.8.1)\n",
            "Requirement already satisfied: requests>=2.10.0 in /usr/local/lib/python3.10/dist-packages (from newspaper3k) (2.32.3)\n",
            "Requirement already satisfied: feedparser>=5.2.1 in /usr/local/lib/python3.10/dist-packages (from newspaper3k) (6.0.11)\n",
            "Requirement already satisfied: tldextract>=2.0.1 in /usr/local/lib/python3.10/dist-packages (from newspaper3k) (5.1.2)\n",
            "Requirement already satisfied: feedfinder2>=0.0.4 in /usr/local/lib/python3.10/dist-packages (from newspaper3k) (0.0.4)\n",
            "Requirement already satisfied: jieba3k>=0.35.1 in /usr/local/lib/python3.10/dist-packages (from newspaper3k) (0.35.1)\n",
            "Requirement already satisfied: python-dateutil>=2.5.3 in /usr/local/lib/python3.10/dist-packages (from newspaper3k) (2.8.2)\n",
            "Requirement already satisfied: tinysegmenter==0.3 in /usr/local/lib/python3.10/dist-packages (from newspaper3k) (0.3)\n",
            "Requirement already satisfied: soupsieve>1.2 in /usr/local/lib/python3.10/dist-packages (from beautifulsoup4>=4.4.1->newspaper3k) (2.6)\n",
            "Requirement already satisfied: six in /usr/local/lib/python3.10/dist-packages (from feedfinder2>=0.0.4->newspaper3k) (1.16.0)\n",
            "Requirement already satisfied: sgmllib3k in /usr/local/lib/python3.10/dist-packages (from feedparser>=5.2.1->newspaper3k) (1.0.0)\n",
            "Requirement already satisfied: click in /usr/local/lib/python3.10/dist-packages (from nltk>=3.2.1->newspaper3k) (8.1.7)\n",
            "Requirement already satisfied: joblib in /usr/local/lib/python3.10/dist-packages (from nltk>=3.2.1->newspaper3k) (1.4.2)\n",
            "Requirement already satisfied: regex>=2021.8.3 in /usr/local/lib/python3.10/dist-packages (from nltk>=3.2.1->newspaper3k) (2024.5.15)\n",
            "Requirement already satisfied: tqdm in /usr/local/lib/python3.10/dist-packages (from nltk>=3.2.1->newspaper3k) (4.66.5)\n",
            "Requirement already satisfied: charset-normalizer<4,>=2 in /usr/local/lib/python3.10/dist-packages (from requests>=2.10.0->newspaper3k) (3.3.2)\n",
            "Requirement already satisfied: idna<4,>=2.5 in /usr/local/lib/python3.10/dist-packages (from requests>=2.10.0->newspaper3k) (2.10)\n",
            "Requirement already satisfied: urllib3<3,>=1.21.1 in /usr/local/lib/python3.10/dist-packages (from requests>=2.10.0->newspaper3k) (2.0.7)\n",
            "Requirement already satisfied: certifi>=2017.4.17 in /usr/local/lib/python3.10/dist-packages (from requests>=2.10.0->newspaper3k) (2024.8.30)\n",
            "Requirement already satisfied: requests-file>=1.4 in /usr/local/lib/python3.10/dist-packages (from tldextract>=2.0.1->newspaper3k) (2.1.0)\n",
            "Requirement already satisfied: filelock>=3.0.8 in /usr/local/lib/python3.10/dist-packages (from tldextract>=2.0.1->newspaper3k) (3.16.0)\n",
            "Requirement already satisfied: textblob in /usr/local/lib/python3.10/dist-packages (0.17.1)\n",
            "Requirement already satisfied: nltk>=3.1 in /usr/local/lib/python3.10/dist-packages (from textblob) (3.8.1)\n",
            "Requirement already satisfied: click in /usr/local/lib/python3.10/dist-packages (from nltk>=3.1->textblob) (8.1.7)\n",
            "Requirement already satisfied: joblib in /usr/local/lib/python3.10/dist-packages (from nltk>=3.1->textblob) (1.4.2)\n",
            "Requirement already satisfied: regex>=2021.8.3 in /usr/local/lib/python3.10/dist-packages (from nltk>=3.1->textblob) (2024.5.15)\n",
            "Requirement already satisfied: tqdm in /usr/local/lib/python3.10/dist-packages (from nltk>=3.1->textblob) (4.66.5)\n",
            "Requirement already satisfied: googletrans==4.0.0-rc1 in /usr/local/lib/python3.10/dist-packages (4.0.0rc1)\n",
            "Requirement already satisfied: httpx==0.13.3 in /usr/local/lib/python3.10/dist-packages (from googletrans==4.0.0-rc1) (0.13.3)\n",
            "Requirement already satisfied: certifi in /usr/local/lib/python3.10/dist-packages (from httpx==0.13.3->googletrans==4.0.0-rc1) (2024.8.30)\n",
            "Requirement already satisfied: hstspreload in /usr/local/lib/python3.10/dist-packages (from httpx==0.13.3->googletrans==4.0.0-rc1) (2024.9.1)\n",
            "Requirement already satisfied: sniffio in /usr/local/lib/python3.10/dist-packages (from httpx==0.13.3->googletrans==4.0.0-rc1) (1.3.1)\n",
            "Requirement already satisfied: chardet==3.* in /usr/local/lib/python3.10/dist-packages (from httpx==0.13.3->googletrans==4.0.0-rc1) (3.0.4)\n",
            "Requirement already satisfied: idna==2.* in /usr/local/lib/python3.10/dist-packages (from httpx==0.13.3->googletrans==4.0.0-rc1) (2.10)\n",
            "Requirement already satisfied: rfc3986<2,>=1.3 in /usr/local/lib/python3.10/dist-packages (from httpx==0.13.3->googletrans==4.0.0-rc1) (1.5.0)\n",
            "Requirement already satisfied: httpcore==0.9.* in /usr/local/lib/python3.10/dist-packages (from httpx==0.13.3->googletrans==4.0.0-rc1) (0.9.1)\n",
            "Requirement already satisfied: h11<0.10,>=0.8 in /usr/local/lib/python3.10/dist-packages (from httpcore==0.9.*->httpx==0.13.3->googletrans==4.0.0-rc1) (0.9.0)\n",
            "Requirement already satisfied: h2==3.* in /usr/local/lib/python3.10/dist-packages (from httpcore==0.9.*->httpx==0.13.3->googletrans==4.0.0-rc1) (3.2.0)\n",
            "Requirement already satisfied: hyperframe<6,>=5.2.0 in /usr/local/lib/python3.10/dist-packages (from h2==3.*->httpcore==0.9.*->httpx==0.13.3->googletrans==4.0.0-rc1) (5.2.0)\n",
            "Requirement already satisfied: hpack<4,>=3.0 in /usr/local/lib/python3.10/dist-packages (from h2==3.*->httpcore==0.9.*->httpx==0.13.3->googletrans==4.0.0-rc1) (3.0.0)\n"
          ]
        }
      ]
    },
    {
      "cell_type": "code",
      "source": [
        "import random\n",
        "import nltk\n",
        "from sklearn.feature_extraction.text import CountVectorizer\n",
        "from sklearn.metrics.pairwise import cosine_similarity\n",
        "import numpy as np\n",
        "from textblob import TextBlob\n",
        "from googletrans import Translator\n",
        "import warnings\n",
        "from newspaper import Article\n",
        "\n",
        "warnings.filterwarnings('ignore')"
      ],
      "metadata": {
        "id": "RiZFyV5B-PQO"
      },
      "execution_count": 18,
      "outputs": []
    },
    {
      "cell_type": "code",
      "source": [
        "nltk.download('punkt', quiet=True)"
      ],
      "metadata": {
        "colab": {
          "base_uri": "https://localhost:8080/"
        },
        "id": "bKUT_RkC-PSy",
        "outputId": "f339bf47-35d1-4ee2-812a-b5c10bfe0b41"
      },
      "execution_count": 19,
      "outputs": [
        {
          "output_type": "execute_result",
          "data": {
            "text/plain": [
              "True"
            ]
          },
          "metadata": {},
          "execution_count": 19
        }
      ]
    },
    {
      "cell_type": "code",
      "source": [
        "translator = Translator()\n",
        "user_name = \"Naman\""
      ],
      "metadata": {
        "id": "uUCJZ6g6-PVL"
      },
      "execution_count": 20,
      "outputs": []
    },
    {
      "cell_type": "code",
      "source": [
        "predefined_responses = {\n",
        "    \"what is chronic kidney disease?\": \"Chronic kidney disease is a disease characterized by progressive damage and loss of function in the kidneys.\",\n",
        "    \"symptoms of chronic kidney disease?\": \"The symptoms of chronic kidney disease include fatigue, swollen ankles, and frequent urination.\",\n",
        "    \"causes of chronic kidney disease?\": \"The causes of chronic kidney disease can include diabetes, high blood pressure, and glomerulonephritis.\",\n",
        "    \"treatment for chronic kidney disease?\": \"Treatment for chronic kidney disease may involve medications, lifestyle changes, and possibly dialysis.\",\n",
        "    \"how to prevent chronic kidney disease?\": \"Preventing chronic kidney disease involves controlling conditions like diabetes and high blood pressure, and maintaining a healthy lifestyle.\",\n",
        "    \"what are the kinds of diabetes?\": \"The main types of diabetes are Type 1, Type 2, and gestational diabetes.\",\n",
        "    \"is chronic kidney disease hereditary?\": \"Chronic kidney disease can sometimes run in families, but it can also develop due to environmental factors or lifestyle.\",\n",
        "    \"is there a cure for chronic kidney disease?\": \"Chronic kidney disease has no cure, but treatment can help manage symptoms and slow the progression of the disease.\",\n",
        "    \"what foods to avoid with chronic kidney disease?\": \"Patients with chronic kidney disease should avoid foods high in sodium, potassium, and phosphorus, such as processed foods, bananas, and dairy.\",\n",
        "    \"can chronic kidney disease lead to kidney failure?\": \"Yes, chronic kidney disease can lead to kidney failure if left untreated or not managed properly.\",\n",
        "    \"can chronic kidney disease cause high blood pressure?\": \"Yes, chronic kidney disease can cause high blood pressure, and high blood pressure can also cause further kidney damage.\",\n",
        "    \"how is chronic kidney disease diagnosed?\": \"Chronic kidney disease is diagnosed through blood tests, urine tests, and imaging studies to assess kidney function.\",\n",
        "    \"can children have chronic kidney disease?\": \"Yes, children can develop chronic kidney disease due to congenital abnormalities, genetic conditions, or other health issues.\",\n",
        "    \"can you reverse chronic kidney disease?\": \"Chronic kidney disease is usually not reversible, but with proper treatment, its progression can be slowed down.\",\n",
        "    \"what are the stages of chronic kidney disease?\": \"Chronic kidney disease is divided into 5 stages, with stage 1 being mild kidney damage and stage 5 being end-stage renal disease requiring dialysis.\",\n",
        "    \"what is dialysis?\": \"Dialysis is a treatment that filters waste and excess fluids from the blood when the kidneys can't do so effectively.\",\n",
        "    \"is dialysis necessary for chronic kidney disease?\": \"Dialysis is necessary for patients with end-stage kidney failure when kidney function is no longer adequate.\",\n",
        "    \"can chronic kidney disease affect other organs?\": \"Yes, chronic kidney disease can affect other organs like the heart and lungs due to complications such as fluid retention and high blood pressure.\",\n",
        "    \"how much water should someone with chronic kidney disease drink?\": \"Water intake should be regulated for chronic kidney disease patients depending on their stage and treatment plan, as excess fluid can be harmful.\",\n",
        "    \"can chronic kidney disease cause anemia?\": \"Yes, chronic kidney disease can cause anemia due to reduced production of erythropoietin, a hormone that stimulates red blood cell production.\",\n",
        "    \"can chronic kidney disease cause bone problems?\": \"Yes, chronic kidney disease can cause bone problems like osteoporosis due to an imbalance of calcium and phosphorus.\",\n",
        "    \"what medications are used for chronic kidney disease?\": \"Common medications include blood pressure medications, diuretics, phosphate binders, and erythropoietin-stimulating agents.\",\n",
        "    \"can chronic kidney disease cause weight loss?\": \"Yes, chronic kidney disease can cause weight loss due to loss of appetite, nausea, and other factors.\",\n",
        "    \"can chronic kidney disease cause fatigue?\": \"Yes, fatigue is a common symptom of chronic kidney disease due to anemia, toxin buildup, and other factors.\",\n",
        "    \"is chronic kidney disease common?\": \"Chronic kidney disease is fairly common, especially among older adults and people with diabetes or high blood pressure.\",\n",
        "    \"can chronic kidney disease be painful?\": \"Chronic kidney disease itself is not usually painful, but complications such as kidney stones or infections can cause pain.\",\n",
        "    \"can chronic kidney disease cause itching?\": \"Yes, itching is a common symptom of advanced chronic kidney disease due to the buildup of toxins in the body.\",\n",
        "    \"can chronic kidney disease affect mental health?\": \"Yes, chronic kidney disease can lead to depression, anxiety, and cognitive difficulties due to its physical and emotional toll.\",\n",
        "    \"can chronic kidney disease cause swelling?\": \"Yes, swelling (edema) in the ankles, feet, and hands is a common symptom of chronic kidney disease due to fluid retention.\",\n",
        "    \"can chronic kidney disease cause shortness of breath?\": \"Yes, shortness of breath can occur in chronic kidney disease patients due to fluid buildup in the lungs or anemia.\",\n",
        "    \"can chronic kidney disease be genetic?\": \"Chronic kidney disease can have genetic causes, such as polycystic kidney disease, but it also has many non-genetic causes.\",\n",
        "    \"is chronic kidney disease fatal?\": \"Chronic kidney disease can be life-threatening if it progresses to kidney failure and is not treated with dialysis or a kidney transplant.\",\n",
        "    \"how does chronic kidney disease affect daily life?\": \"Chronic kidney disease can affect daily life by causing fatigue, dietary restrictions, and frequent medical appointments, among other challenges.\",\n",
        "    \"what lifestyle changes are needed for chronic kidney disease?\": \"Lifestyle changes may include dietary modifications, regular exercise, quitting smoking, and controlling blood pressure and blood sugar levels.\",\n",
        "    \"what are the risk factors for chronic kidney disease?\": \"Risk factors include diabetes, high blood pressure, a family history of kidney disease, and being over 60 years old.\",\n",
        "    \"can chronic kidney disease cause high cholesterol?\": \"Yes, chronic kidney disease can cause high cholesterol, which increases the risk of cardiovascular disease.\",\n",
        "    \"can chronic kidney disease cause headaches?\": \"Headaches can occur in chronic kidney disease due to high blood pressure, anemia, or electrolyte imbalances.\",\n",
        "    \"can stress cause chronic kidney disease?\": \"While stress alone does not cause chronic kidney disease, it can worsen high blood pressure, which is a risk factor.\",\n",
        "    \"can chronic kidney disease cause nausea?\": \"Yes, nausea and vomiting are common symptoms in advanced stages of chronic kidney disease due to the buildup of waste products.\",\n",
        "    \"how does chronic kidney disease affect the heart?\": \"Chronic kidney disease can increase the risk of heart disease due to high blood pressure, high cholesterol, and fluid retention.\",\n",
        "    \"can chronic kidney disease cause insomnia?\": \"Yes, sleep problems like insomnia can occur in chronic kidney disease due to discomfort, restless leg syndrome, or the buildup of toxins.\",\n",
        "    \"what is a kidney transplant?\": \"A kidney transplant is a surgical procedure where a healthy kidney from a donor is placed into a person whose kidneys are failing.\",\n",
        "    \"who is eligible for a kidney transplant?\": \"Eligibility for a kidney transplant depends on various factors, including overall health, the severity of kidney disease, and the availability of a donor.\",\n",
        "    \"how long does a kidney transplant last?\": \"A kidney transplant can last many years, with the average transplanted kidney functioning for about 10-15 years.\",\n",
        "    \"what are the complications of a kidney transplant?\": \"Complications can include organ rejection, infections, and side effects from immunosuppressive medications.\",\n",
        "    \"how does chronic kidney disease affect pregnancy?\": \"Chronic kidney disease can make pregnancy high-risk due to complications like high blood pressure and proteinuria.\",\n",
        "    \"can chronic kidney disease cause muscle cramps?\": \"Yes, muscle cramps are common in chronic kidney disease due to imbalances in electrolytes like calcium and potassium.\",\n",
        "    \"how can chronic kidney disease be managed at home?\": \"Management at home includes following a kidney-friendly diet, monitoring fluid intake, and taking prescribed medications as directed.\",\n",
        "    \"can chronic kidney disease affect the liver?\": \"Although chronic kidney disease primarily affects the kidneys, it can lead to liver complications in some cases, especially in advanced stages.\",\n",
        "}"
      ],
      "metadata": {
        "id": "jyUpKRcd-PXj"
      },
      "execution_count": 21,
      "outputs": []
    },
    {
      "cell_type": "code",
      "source": [
        "article = Article('https://www.mayoclinic.org/diseases-conditions/chronic-kidney-disease/symptoms-causes/syc-20354521')\n",
        "article.download()\n",
        "article.parse()\n",
        "article.nlp()\n",
        "article_text = article.text\n",
        "sentence_list = nltk.sent_tokenize(article_text)"
      ],
      "metadata": {
        "id": "bc_Tl3Gl-PZ5"
      },
      "execution_count": 22,
      "outputs": []
    },
    {
      "cell_type": "code",
      "source": [
        "def expand_synonyms(user_input):\n",
        "    synonyms = {\n",
        "        \"what is\": [\"describe\", \"define\", \"explain\"],\n",
        "        \"treatment\": [\"cure\", \"medication\", \"remedy\"],\n",
        "        \"symptoms\": [\"signs\", \"indications\", \"manifestations\"],\n",
        "    }\n",
        "    for key, synonym_list in synonyms.items():\n",
        "        for synonym in synonym_list:\n",
        "            if synonym in user_input:\n",
        "                user_input = user_input.replace(synonym, key)\n",
        "    return user_input\n"
      ],
      "metadata": {
        "id": "H5OE7ly6-PcQ"
      },
      "execution_count": 23,
      "outputs": []
    },
    {
      "cell_type": "code",
      "source": [
        "def greeting_response(text):\n",
        "    text = text.lower()\n",
        "    bot_greetings = ['hello', 'hii', 'good morning', 'hey', 'hi']\n",
        "    user_greetings = ['yoo', 'wassup', 'hellu', 'hey', 'hi']\n",
        "    for word in user_greetings:\n",
        "        if word in text:\n",
        "            return random.choice(bot_greetings)\n",
        "    return \"\""
      ],
      "metadata": {
        "id": "vS0HY4IJ-Pe0"
      },
      "execution_count": 24,
      "outputs": []
    },
    {
      "cell_type": "code",
      "source": [
        "def get_predefined_response(user_input):\n",
        "    user_input = expand_synonyms(user_input)\n",
        "    user_input = user_input.lower()\n",
        "    response = predefined_responses.get(user_input, None)\n",
        "    return response"
      ],
      "metadata": {
        "id": "Z67YE6Ti-PhI"
      },
      "execution_count": 25,
      "outputs": []
    },
    {
      "cell_type": "code",
      "source": [
        "def get_article_response(user_input):\n",
        "    user_input = expand_synonyms(user_input)\n",
        "    user_input = user_input.lower()\n",
        "\n",
        "    # Combine article sentences with user input\n",
        "    sentences = sentence_list + [user_input]\n",
        "\n",
        "    # Vectorize sentences\n",
        "    vectorizer = CountVectorizer().fit_transform(sentences)\n",
        "    vectors = vectorizer.toarray()\n",
        "\n",
        "    # Calculate cosine similarity between the last sentence (user input) and all other sentences\n",
        "    cosine_sim = cosine_similarity([vectors[-1]], vectors[:-1])\n",
        "\n",
        "    # Find the index of the most similar sentence\n",
        "    index = np.argmax(cosine_sim)\n",
        "\n",
        "    # Return the most similar sentence or a fallback message\n",
        "    return sentence_list[index] if cosine_sim[0][index] > 0.1 else \"Sorry, I don't have information on that.\""
      ],
      "metadata": {
        "id": "5upzplOF-Pji"
      },
      "execution_count": 26,
      "outputs": []
    },
    {
      "cell_type": "code",
      "source": [
        "def sentiment_analysis(text):\n",
        "    blob = TextBlob(text)\n",
        "    sentiment = blob.sentiment.polarity\n",
        "    if sentiment > 0.1:\n",
        "        return \"It sounds like you're feeling positive.\"\n",
        "    elif sentiment < -0.1:\n",
        "        return \"I'm sorry to hear that you're feeling down.\"\n",
        "    else:\n",
        "        return \"It seems like you're neutral about this.\""
      ],
      "metadata": {
        "id": "DirpGHVG-Pl8"
      },
      "execution_count": 27,
      "outputs": []
    },
    {
      "cell_type": "code",
      "source": [
        "def translate_text(text, lang_code):\n",
        "    try:\n",
        "        translated = translator.translate(text, dest=lang_code)\n",
        "        return translated.text\n",
        "    except Exception as e:\n",
        "        return str(e)"
      ],
      "metadata": {
        "id": "oAA69F_7-Poa"
      },
      "execution_count": 28,
      "outputs": []
    },
    {
      "cell_type": "code",
      "source": [
        "def main():\n",
        "    print(f\"Chatbot: Hello! How can I assist you today?\")\n",
        "\n",
        "    while True:\n",
        "        user_input = input(\"You: \").strip()\n",
        "\n",
        "        if any(greet in user_input.lower() for greet in ['hello', 'hi', 'hey', 'good morning']):\n",
        "            print(f\"Chatbot: {greeting_response(user_input)}\")\n",
        "            continue\n",
        "\n",
        "        response = get_predefined_response(user_input)\n",
        "\n",
        "        if response is None:\n",
        "            response = get_article_response(user_input)\n",
        "\n",
        "        print(f\"Chatbot: {response}\")\n",
        "\n",
        "        more_help = input(\"Chatbot: Can I help you with anything else? (yes/no) \").strip().lower()\n",
        "        if more_help == \"yes\":\n",
        "            additional_input = input(\"You: \").strip()\n",
        "            if any(word in additional_input.lower() for word in ['i feel', 'i am', 'i am feeling']):\n",
        "                sentiment_response = sentiment_analysis(additional_input)\n",
        "                print(f\"Chatbot: {sentiment_response}\")\n",
        "            else:\n",
        "                additional_response = get_predefined_response(additional_input)\n",
        "                if additional_response is None:\n",
        "                    additional_response = get_article_response(additional_input)\n",
        "                print(f\"Chatbot: {additional_response}\")\n",
        "\n",
        "        translate = input(\"Chatbot: Would you like me to translate the response to another language? (yes/no) \").strip().lower()\n",
        "        if translate == \"yes\":\n",
        "            lang_code = input(\"You: Enter the language code (e.g., 'es' for Spanish, 'de' for German): \").strip().lower()\n",
        "            translated_response = translate_text(response, lang_code)\n",
        "            print(f\"Chatbot: [Translated Response] {translated_response}\")\n",
        "\n",
        "        if input(\"Chatbot: Do you have any more questions? (yes/no) \").strip().lower() == \"no\":\n",
        "            print(\"Chatbot: Thank you for chatting with me. Have a great day!\")\n",
        "            break"
      ],
      "metadata": {
        "id": "ssYB6L0D-Pqx"
      },
      "execution_count": 29,
      "outputs": []
    },
    {
      "cell_type": "code",
      "source": [
        "if __name__ == \"__main__\":\n",
        "    main()\n"
      ],
      "metadata": {
        "colab": {
          "base_uri": "https://localhost:8080/"
        },
        "id": "NLjgKUX5-PtH",
        "outputId": "cc7cb576-8ffc-4c2f-bbf8-7ced75b0f353"
      },
      "execution_count": 30,
      "outputs": [
        {
          "output_type": "stream",
          "name": "stdout",
          "text": [
            "Chatbot: Hello! How can I assist you today?\n",
            "You: hey\n",
            "Chatbot: hey\n",
            "You: how can we prevent kidney disease?\n",
            "Chatbot: Smoking can also be a contributing factor to chronic kidney disease.\n",
            "Chatbot: Can I help you with anything else? (yes/no) yes\n",
            "You: i am happy\n",
            "Chatbot: It sounds like you're feeling positive.\n",
            "Chatbot: Would you like me to translate the response to another language? (yes/no) no\n",
            "Chatbot: Do you have any more questions? (yes/no) no\n",
            "Chatbot: Thank you for chatting with me. Have a great day!\n"
          ]
        }
      ]
    }
  ]
}